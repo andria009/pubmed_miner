{
  "nbformat": 4,
  "nbformat_minor": 0,
  "metadata": {
    "colab": {
      "name": "PubMed-Miner.ipynb",
      "provenance": [],
      "authorship_tag": "ABX9TyOGNqL1G2ARXnOPl3u29c2k",
      "include_colab_link": true
    },
    "kernelspec": {
      "name": "python3",
      "display_name": "Python 3"
    }
  },
  "cells": [
    {
      "cell_type": "markdown",
      "metadata": {
        "id": "view-in-github",
        "colab_type": "text"
      },
      "source": [
        "<a href=\"https://colab.research.google.com/github/andria009/pubmed_miner/blob/master/PubMed_Miner.ipynb\" target=\"_parent\"><img src=\"https://colab.research.google.com/assets/colab-badge.svg\" alt=\"Open In Colab\"/></a>"
      ]
    },
    {
      "cell_type": "markdown",
      "metadata": {
        "id": "ZU9Lo5VPAAvJ",
        "colab_type": "text"
      },
      "source": [
        "PubMed Document Miner using BioBert for Named Entity Recognition from BERN project service @Korea University.\n",
        "\n",
        "**input**: pubmed id\n",
        "\n",
        "**output**: json object with (id, text, diseases, genes, drugs, species)"
      ]
    },
    {
      "cell_type": "code",
      "metadata": {
        "id": "sh6lCh2R_85G",
        "colab_type": "code",
        "colab": {}
      },
      "source": [
        "import json\n",
        "import requests"
      ],
      "execution_count": 82,
      "outputs": []
    },
    {
      "cell_type": "code",
      "metadata": {
        "id": "C81elywNAlr4",
        "colab_type": "code",
        "colab": {}
      },
      "source": [
        "ids = ['29446767']"
      ],
      "execution_count": 83,
      "outputs": []
    },
    {
      "cell_type": "code",
      "metadata": {
        "id": "JkmQpB2l3Bi3",
        "colab_type": "code",
        "colab": {}
      },
      "source": [
        "ids_str = ','.join(map(str, ids))\n",
        "r = requests.get('https://bern.korea.ac.kr/pubmed/' + ids_str)\n",
        "\n",
        "data = r.json()\n"
      ],
      "execution_count": 84,
      "outputs": []
    },
    {
      "cell_type": "code",
      "metadata": {
        "id": "h5cTtRIa59xZ",
        "colab_type": "code",
        "colab": {}
      },
      "source": [
        "# print(json.dumps(data, indent=2))"
      ],
      "execution_count": 85,
      "outputs": []
    },
    {
      "cell_type": "code",
      "metadata": {
        "id": "9hCO9lwE6m2t",
        "colab_type": "code",
        "colab": {}
      },
      "source": [
        "for item in data: \n",
        "  if ('sourcedb' in item and 'sourceid' in item):\n",
        "    id = item['sourcedb'] + item['sourceid']\n",
        "  else:\n",
        "    break\n",
        "\n",
        "  if 'text' in item:\n",
        "    text = item['text']\n",
        "  \n",
        "  if 'logits' in item:\n",
        "    if 'disease' in item['logits']:\n",
        "      diseases = item['logits']['disease']\n",
        "    else: \n",
        "      diseases = []\n",
        "\n",
        "    if 'gene' in item['logits']:\n",
        "      genes = item['logits']['gene']\n",
        "    else:\n",
        "      genes = []\n",
        "\n",
        "    if 'drug' in item['logits']:\n",
        "      drugs = item['logits']['drug']\n",
        "    else:\n",
        "      drugs = []\n",
        "\n",
        "    if 'species' in item['logits']:\n",
        "      specieses = item['logits']['species']\n",
        "    else:\n",
        "      specieses = []\n",
        "\n",
        "    if 'mutation' in item['logits']:\n",
        "      mutations = item['logits']['mutation']\n",
        "    else:\n",
        "      mutations = []"
      ],
      "execution_count": 86,
      "outputs": []
    },
    {
      "cell_type": "code",
      "metadata": {
        "id": "UxQU_Rxz6pKD",
        "colab_type": "code",
        "colab": {
          "base_uri": "https://localhost:8080/",
          "height": 35
        },
        "outputId": "3b14b82f-3954-430d-cedd-0b33626a635e"
      },
      "source": [
        "  diseases_list = []\n",
        "  for disease in diseases:\n",
        "    start = disease[0]['start']\n",
        "    end = disease[0]['end']\n",
        "\n",
        "    disease_str = text[start:end]\n",
        "\n",
        "    if (disease_str not in diseases_list):\n",
        "      diseases_list.append(disease_str)\n",
        "\n",
        "  print(diseases_list)"
      ],
      "execution_count": 87,
      "outputs": [
        {
          "output_type": "stream",
          "text": [
            "['CLAPO syndrome', 'vascular disorder', 'capillary malformation of the lower lip', 'lymphatic malformation predominant on the face and neck', 'CLAPO', 'developmental disorders']\n"
          ],
          "name": "stdout"
        }
      ]
    },
    {
      "cell_type": "code",
      "metadata": {
        "id": "wVhWjXSm9lSu",
        "colab_type": "code",
        "colab": {
          "base_uri": "https://localhost:8080/",
          "height": 35
        },
        "outputId": "cf7fac43-f464-4192-f09a-05846fa80f22"
      },
      "source": [
        "  genes_list = []\n",
        "\n",
        "  for gene in genes:\n",
        "    start = gene[0]['start']\n",
        "    end = gene[0]['end']\n",
        "\n",
        "    gene_str = text[start:end]\n",
        "\n",
        "    if (gene_str not in genes_list):\n",
        "      genes_list.append(gene_str)\n",
        "\n",
        "  print(genes_list)"
      ],
      "execution_count": 88,
      "outputs": [
        {
          "output_type": "stream",
          "text": [
            "['PIK3CA', 'PIK3CA gene', 'PIK3CA mutations']\n"
          ],
          "name": "stdout"
        }
      ]
    },
    {
      "cell_type": "code",
      "metadata": {
        "id": "bV9sPSee9oO_",
        "colab_type": "code",
        "colab": {
          "base_uri": "https://localhost:8080/",
          "height": 35
        },
        "outputId": "cd3dd542-87ad-4613-bcd5-dd4f80c9b0da"
      },
      "source": [
        "  drugs_list = []\n",
        "\n",
        "  for drug in drugs:\n",
        "    start = drug[0]['start']\n",
        "    end = drug[0]['end']\n",
        "\n",
        "    drug_str = text[start:end]\n",
        "\n",
        "    if (drug_str not in drugs_list):\n",
        "      drugs_list.append(drug_str)\n",
        "\n",
        "  print(drugs_list)"
      ],
      "execution_count": 89,
      "outputs": [
        {
          "output_type": "stream",
          "text": [
            "[]\n"
          ],
          "name": "stdout"
        }
      ]
    },
    {
      "cell_type": "code",
      "metadata": {
        "id": "flafACV79r4R",
        "colab_type": "code",
        "colab": {
          "base_uri": "https://localhost:8080/",
          "height": 35
        },
        "outputId": "07ca9da8-e66c-4b63-a42e-866457e9efd1"
      },
      "source": [
        "  specieses_list = []\n",
        "\n",
        "  for species in specieses:\n",
        "    start = species[0]['start']\n",
        "    end = species[0]['end']\n",
        "\n",
        "    species_str = text[start:end]\n",
        "\n",
        "    if (species_str not in specieses_list):\n",
        "      specieses_list.append(species_str)\n",
        "\n",
        "  print(specieses_list)"
      ],
      "execution_count": 90,
      "outputs": [
        {
          "output_type": "stream",
          "text": [
            "['patient']\n"
          ],
          "name": "stdout"
        }
      ]
    },
    {
      "cell_type": "code",
      "metadata": {
        "id": "Ot0bX50M7vWp",
        "colab_type": "code",
        "colab": {
          "base_uri": "https://localhost:8080/",
          "height": 35
        },
        "outputId": "ebdca3aa-5677-4704-ad39-b68f947609f7"
      },
      "source": [
        "  mutations_list = []\n",
        "\n",
        "  for mutation in mutations:\n",
        "    start = mutation[0]['start']\n",
        "    end = mutation[0]['end']\n",
        "\n",
        "    mutations_str = text[start:end]\n",
        "\n",
        "    if (mutation_str not in mutations_list):\n",
        "      mutations_list.append(mutation_str)\n",
        "\n",
        "  print(mutations_list)"
      ],
      "execution_count": 91,
      "outputs": [
        {
          "output_type": "stream",
          "text": [
            "[]\n"
          ],
          "name": "stdout"
        }
      ]
    },
    {
      "cell_type": "code",
      "metadata": {
        "id": "EO8YNOZR9Pz5",
        "colab_type": "code",
        "colab": {}
      },
      "source": [
        "  out = {\n",
        "      \"id\" : id,\n",
        "      \"text\" : text,\n",
        "      \"diseases\" : diseases_list,\n",
        "      \"genes\" : genes_list,\n",
        "      \"drugs\" : drugs_list,\n",
        "      \"species\" : specieses_list,\n",
        "      \"mutations\" : mutations_list\n",
        "  }"
      ],
      "execution_count": 92,
      "outputs": []
    },
    {
      "cell_type": "code",
      "metadata": {
        "id": "cWUxwCdg9yK3",
        "colab_type": "code",
        "colab": {
          "base_uri": "https://localhost:8080/",
          "height": 433
        },
        "outputId": "5d3b42b3-b5f6-4a17-acf4-2c783dce81c3"
      },
      "source": [
        "  json_out = json.dumps(out, indent=2)\n",
        "  print(json_out)"
      ],
      "execution_count": 93,
      "outputs": [
        {
          "output_type": "stream",
          "text": [
            "{\n",
            "  \"id\": \"PubMed29446767\",\n",
            "  \"text\": \"CLAPO syndrome: identification of somatic activating PIK3CA mutations and delineation of the natural history and phenotype. PURPOSE: CLAPO syndrome is a rare vascular disorder characterized by capillary malformation of the lower lip, lymphatic malformation predominant on the face and neck, asymmetry, and partial/generalized overgrowth. Here we tested the hypothesis that, although the genetic cause is not known, the tissue distribution of the clinical manifestations in CLAPO seems to follow a pattern of somatic mosaicism. METHODS: We clinically evaluated a cohort of 13 patients with CLAPO and screened 20 DNA blood/tissue samples from 9 patients using high-throughput, deep sequencing. RESULTS: We identified five activating mutations in the PIK3CA gene in affected tissues from 6 of the 9 patients studied; one of the variants (NM_006218.2:c.248T>C; p.Phe83Ser) has not been previously described in developmental disorders. CONCLUSION: We describe for the first time the presence of somatic activating PIK3CA mutations in patients with CLAPO. We also report an update of the phenotype and natural history of the syndrome.\",\n",
            "  \"diseases\": [\n",
            "    \"CLAPO syndrome\",\n",
            "    \"vascular disorder\",\n",
            "    \"capillary malformation of the lower lip\",\n",
            "    \"lymphatic malformation predominant on the face and neck\",\n",
            "    \"CLAPO\",\n",
            "    \"developmental disorders\"\n",
            "  ],\n",
            "  \"genes\": [\n",
            "    \"PIK3CA\",\n",
            "    \"PIK3CA gene\",\n",
            "    \"PIK3CA mutations\"\n",
            "  ],\n",
            "  \"drugs\": [],\n",
            "  \"species\": [\n",
            "    \"patient\"\n",
            "  ],\n",
            "  \"mutations\": []\n",
            "}\n"
          ],
          "name": "stdout"
        }
      ]
    }
  ]
}
