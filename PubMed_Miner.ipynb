{
  "nbformat": 4,
  "nbformat_minor": 0,
  "metadata": {
    "colab": {
      "name": "PubMed-Miner.ipynb",
      "provenance": [],
      "authorship_tag": "ABX9TyMrjrqEWB+frpBXXL4HwPD0",
      "include_colab_link": true
    },
    "kernelspec": {
      "name": "python3",
      "display_name": "Python 3"
    }
  },
  "cells": [
    {
      "cell_type": "markdown",
      "metadata": {
        "id": "view-in-github",
        "colab_type": "text"
      },
      "source": [
        "<a href=\"https://colab.research.google.com/github/andria009/pubmed_miner/blob/master/PubMed_Miner.ipynb\" target=\"_parent\"><img src=\"https://colab.research.google.com/assets/colab-badge.svg\" alt=\"Open In Colab\"/></a>"
      ]
    },
    {
      "cell_type": "markdown",
      "metadata": {
        "id": "ZU9Lo5VPAAvJ",
        "colab_type": "text"
      },
      "source": [
        "PubMed Document Miner using BioBert for Named Entity Recognition from BERN project service @Korea University.\n",
        "\n",
        "**input**: pubmed id\n",
        "\n",
        "**output**: json object with (id, text, diseases, genes, drugs, species)"
      ]
    },
    {
      "cell_type": "code",
      "metadata": {
        "id": "sh6lCh2R_85G",
        "colab_type": "code",
        "colab": {}
      },
      "source": [
        "import json\n",
        "import requests"
      ],
      "execution_count": 48,
      "outputs": []
    },
    {
      "cell_type": "code",
      "metadata": {
        "id": "C81elywNAlr4",
        "colab_type": "code",
        "colab": {}
      },
      "source": [
        "id = '29446767'"
      ],
      "execution_count": 49,
      "outputs": []
    },
    {
      "cell_type": "code",
      "metadata": {
        "id": "JkmQpB2l3Bi3",
        "colab_type": "code",
        "colab": {}
      },
      "source": [
        "r = requests.get('https://bern.korea.ac.kr/pubmed/' + id)\n",
        "\n",
        "data = r.json()\n"
      ],
      "execution_count": 50,
      "outputs": []
    },
    {
      "cell_type": "code",
      "metadata": {
        "id": "h5cTtRIa59xZ",
        "colab_type": "code",
        "colab": {
          "base_uri": "https://localhost:8080/",
          "height": 1000
        },
        "outputId": "c60bbb6c-d254-47ab-e73d-ae1adda50a91"
      },
      "source": [
        "print(json.dumps(data, indent=2))"
      ],
      "execution_count": 51,
      "outputs": [
        {
          "output_type": "stream",
          "text": [
            "[\n",
            "  {\n",
            "    \"project\": \"BERN\",\n",
            "    \"sourcedb\": \"PubMed\",\n",
            "    \"sourceid\": \"29446767\",\n",
            "    \"text\": \"CLAPO syndrome: identification of somatic activating PIK3CA mutations and delineation of the natural history and phenotype. PURPOSE: CLAPO syndrome is a rare vascular disorder characterized by capillary malformation of the lower lip, lymphatic malformation predominant on the face and neck, asymmetry, and partial/generalized overgrowth. Here we tested the hypothesis that, although the genetic cause is not known, the tissue distribution of the clinical manifestations in CLAPO seems to follow a pattern of somatic mosaicism. METHODS: We clinically evaluated a cohort of 13 patients with CLAPO and screened 20 DNA blood/tissue samples from 9 patients using high-throughput, deep sequencing. RESULTS: We identified five activating mutations in the PIK3CA gene in affected tissues from 6 of the 9 patients studied; one of the variants (NM_006218.2:c.248T>C; p.Phe83Ser) has not been previously described in developmental disorders. CONCLUSION: We describe for the first time the presence of somatic activating PIK3CA mutations in patients with CLAPO. We also report an update of the phenotype and natural history of the syndrome.\",\n",
            "    \"denotations\": [\n",
            "      {\n",
            "        \"id\": [\n",
            "          \"MESH:C567763\",\n",
            "          \"BERN:262813101\"\n",
            "        ],\n",
            "        \"span\": {\n",
            "          \"begin\": 0,\n",
            "          \"end\": 14\n",
            "        },\n",
            "        \"obj\": \"disease\"\n",
            "      },\n",
            "      {\n",
            "        \"id\": [\n",
            "          \"MIM:171834\",\n",
            "          \"HGNC:8975\",\n",
            "          \"Ensembl:ENSG00000121879\",\n",
            "          \"BERN:324295302\"\n",
            "        ],\n",
            "        \"span\": {\n",
            "          \"begin\": 53,\n",
            "          \"end\": 59\n",
            "        },\n",
            "        \"obj\": \"gene\"\n",
            "      },\n",
            "      {\n",
            "        \"id\": [\n",
            "          \"MESH:C567763\",\n",
            "          \"BERN:262813101\"\n",
            "        ],\n",
            "        \"span\": {\n",
            "          \"begin\": 133,\n",
            "          \"end\": 147\n",
            "        },\n",
            "        \"obj\": \"disease\"\n",
            "      },\n",
            "      {\n",
            "        \"id\": [\n",
            "          \"MESH:D014652\",\n",
            "          \"BERN:256572101\"\n",
            "        ],\n",
            "        \"span\": {\n",
            "          \"begin\": 158,\n",
            "          \"end\": 175\n",
            "        },\n",
            "        \"obj\": \"disease\"\n",
            "      },\n",
            "      {\n",
            "        \"id\": [\n",
            "          \"MESH:C567763\",\n",
            "          \"BERN:262813101\"\n",
            "        ],\n",
            "        \"span\": {\n",
            "          \"begin\": 193,\n",
            "          \"end\": 232\n",
            "        },\n",
            "        \"obj\": \"disease\"\n",
            "      },\n",
            "      {\n",
            "        \"id\": [\n",
            "          \"MESH:C567763\",\n",
            "          \"BERN:262813101\"\n",
            "        ],\n",
            "        \"span\": {\n",
            "          \"begin\": 234,\n",
            "          \"end\": 289\n",
            "        },\n",
            "        \"obj\": \"disease\"\n",
            "      },\n",
            "      {\n",
            "        \"id\": [\n",
            "          \"MESH:C567763\",\n",
            "          \"BERN:262813101\"\n",
            "        ],\n",
            "        \"span\": {\n",
            "          \"begin\": 589,\n",
            "          \"end\": 594\n",
            "        },\n",
            "        \"obj\": \"disease\"\n",
            "      },\n",
            "      {\n",
            "        \"id\": [\n",
            "          \"MIM:171834\",\n",
            "          \"HGNC:8975\",\n",
            "          \"Ensembl:ENSG00000121879\",\n",
            "          \"BERN:324295302\"\n",
            "        ],\n",
            "        \"span\": {\n",
            "          \"begin\": 748,\n",
            "          \"end\": 759\n",
            "        },\n",
            "        \"obj\": \"gene\"\n",
            "      },\n",
            "      {\n",
            "        \"id\": [\n",
            "          \"CUI-less\"\n",
            "        ],\n",
            "        \"span\": {\n",
            "          \"begin\": 857,\n",
            "          \"end\": 867\n",
            "        },\n",
            "        \"obj\": \"mutation\",\n",
            "        \"mutationType\": \"ProteinMutation\",\n",
            "        \"normalizedName\": \"p.F83S\"\n",
            "      },\n",
            "      {\n",
            "        \"id\": [\n",
            "          \"BERN:257523801\"\n",
            "        ],\n",
            "        \"span\": {\n",
            "          \"begin\": 906,\n",
            "          \"end\": 929\n",
            "        },\n",
            "        \"obj\": \"disease\"\n",
            "      },\n",
            "      {\n",
            "        \"id\": [\n",
            "          \"CUI-less\"\n",
            "        ],\n",
            "        \"span\": {\n",
            "          \"begin\": 1009,\n",
            "          \"end\": 1025\n",
            "        },\n",
            "        \"obj\": \"gene\"\n",
            "      },\n",
            "      {\n",
            "        \"id\": [\n",
            "          \"MESH:C567763\",\n",
            "          \"BERN:262813101\"\n",
            "        ],\n",
            "        \"span\": {\n",
            "          \"begin\": 1043,\n",
            "          \"end\": 1048\n",
            "        },\n",
            "        \"obj\": \"disease\"\n",
            "      }\n",
            "    ],\n",
            "    \"timestamp\": \"Sun Aug 16 16:03:59 +0000 2020\",\n",
            "    \"logits\": {\n",
            "      \"disease\": [\n",
            "        [\n",
            "          {\n",
            "            \"start\": 0,\n",
            "            \"end\": 14,\n",
            "            \"id\": \"MESH:C567763\\tBERN:262813101\"\n",
            "          },\n",
            "          0.9999999403953552\n",
            "        ],\n",
            "        [\n",
            "          {\n",
            "            \"start\": 133,\n",
            "            \"end\": 147,\n",
            "            \"id\": \"MESH:C567763\\tBERN:262813101\"\n",
            "          },\n",
            "          0.9999998807907104\n",
            "        ],\n",
            "        [\n",
            "          {\n",
            "            \"start\": 158,\n",
            "            \"end\": 175,\n",
            "            \"id\": \"MESH:D014652\\tBERN:256572101\"\n",
            "          },\n",
            "          0.9999998807907104\n",
            "        ],\n",
            "        [\n",
            "          {\n",
            "            \"start\": 193,\n",
            "            \"end\": 232,\n",
            "            \"id\": \"MESH:C567763\\tBERN:262813101\"\n",
            "          },\n",
            "          1\n",
            "        ],\n",
            "        [\n",
            "          {\n",
            "            \"start\": 234,\n",
            "            \"end\": 289,\n",
            "            \"id\": \"MESH:C567763\\tBERN:262813101\"\n",
            "          },\n",
            "          0.9999998807907104\n",
            "        ],\n",
            "        [\n",
            "          {\n",
            "            \"start\": 589,\n",
            "            \"end\": 594,\n",
            "            \"id\": \"MESH:C567763\\tBERN:262813101\"\n",
            "          },\n",
            "          0.9999983310699463\n",
            "        ],\n",
            "        [\n",
            "          {\n",
            "            \"start\": 906,\n",
            "            \"end\": 929,\n",
            "            \"id\": \"BERN:257523801\"\n",
            "          },\n",
            "          0.9999999403953552\n",
            "        ],\n",
            "        [\n",
            "          {\n",
            "            \"start\": 1043,\n",
            "            \"end\": 1048,\n",
            "            \"id\": \"MESH:C567763\\tBERN:262813101\"\n",
            "          },\n",
            "          0.999954104423523\n",
            "        ]\n",
            "      ],\n",
            "      \"gene\": [\n",
            "        [\n",
            "          {\n",
            "            \"start\": 53,\n",
            "            \"end\": 59,\n",
            "            \"id\": \"MIM:171834\\tHGNC:8975\\tEnsembl:ENSG00000121879\\tBERN:324295302\"\n",
            "          },\n",
            "          0.9993630051612854\n",
            "        ],\n",
            "        [\n",
            "          {\n",
            "            \"start\": 748,\n",
            "            \"end\": 759,\n",
            "            \"id\": \"MIM:171834\\tHGNC:8975\\tEnsembl:ENSG00000121879\\tBERN:324295302\"\n",
            "          },\n",
            "          0.9999918341636658\n",
            "        ],\n",
            "        [\n",
            "          {\n",
            "            \"start\": 1009,\n",
            "            \"end\": 1025,\n",
            "            \"id\": \"CUI-less\"\n",
            "          },\n",
            "          0.9578936100006104\n",
            "        ]\n",
            "      ],\n",
            "      \"drug\": [],\n",
            "      \"species\": [\n",
            "        [\n",
            "          {\n",
            "            \"start\": 575,\n",
            "            \"end\": 582\n",
            "          },\n",
            "          0.9999998807907104\n",
            "        ],\n",
            "        [\n",
            "          {\n",
            "            \"start\": 643,\n",
            "            \"end\": 650\n",
            "          },\n",
            "          0.9999998807907104\n",
            "        ],\n",
            "        [\n",
            "          {\n",
            "            \"start\": 796,\n",
            "            \"end\": 803\n",
            "          },\n",
            "          0.9999998807907104\n",
            "        ],\n",
            "        [\n",
            "          {\n",
            "            \"start\": 1029,\n",
            "            \"end\": 1036\n",
            "          },\n",
            "          0.9999998807907104\n",
            "        ]\n",
            "      ]\n",
            "    },\n",
            "    \"elapsed_time\": {\n",
            "      \"tmtool\": 0.829,\n",
            "      \"ner\": 24.123,\n",
            "      \"normalization\": 14.141,\n",
            "      \"total\": 39.094\n",
            "    }\n",
            "  }\n",
            "]\n"
          ],
          "name": "stdout"
        }
      ]
    },
    {
      "cell_type": "code",
      "metadata": {
        "id": "9hCO9lwE6m2t",
        "colab_type": "code",
        "colab": {}
      },
      "source": [
        "text = data[0]['text']"
      ],
      "execution_count": 52,
      "outputs": []
    },
    {
      "cell_type": "code",
      "metadata": {
        "id": "UxQU_Rxz6pKD",
        "colab_type": "code",
        "colab": {}
      },
      "source": [
        "diseases = data[0]['logits']['disease']"
      ],
      "execution_count": 53,
      "outputs": []
    },
    {
      "cell_type": "code",
      "metadata": {
        "id": "wVhWjXSm9lSu",
        "colab_type": "code",
        "colab": {}
      },
      "source": [
        "genes = data[0]['logits']['gene']"
      ],
      "execution_count": 54,
      "outputs": []
    },
    {
      "cell_type": "code",
      "metadata": {
        "id": "bV9sPSee9oO_",
        "colab_type": "code",
        "colab": {}
      },
      "source": [
        "drugs = data[0]['logits']['drug']"
      ],
      "execution_count": 55,
      "outputs": []
    },
    {
      "cell_type": "code",
      "metadata": {
        "id": "flafACV79r4R",
        "colab_type": "code",
        "colab": {}
      },
      "source": [
        "specieses = data[0]['logits']['species']"
      ],
      "execution_count": 56,
      "outputs": []
    },
    {
      "cell_type": "code",
      "metadata": {
        "id": "Ot0bX50M7vWp",
        "colab_type": "code",
        "colab": {
          "base_uri": "https://localhost:8080/",
          "height": 35
        },
        "outputId": "eee9e68c-dd07-4a52-d4c7-8117309379fe"
      },
      "source": [
        "diseases_list = []\n",
        "for disease in diseases:\n",
        "  start = disease[0]['start']\n",
        "  end = disease[0]['end']\n",
        "\n",
        "  disease_str = text[start:end]\n",
        "\n",
        "  if (disease_str not in diseases_list):\n",
        "    diseases_list.append(disease_str)\n",
        "\n",
        "print(diseases_list)"
      ],
      "execution_count": 57,
      "outputs": [
        {
          "output_type": "stream",
          "text": [
            "['CLAPO syndrome', 'vascular disorder', 'capillary malformation of the lower lip', 'lymphatic malformation predominant on the face and neck', 'CLAPO', 'developmental disorders']\n"
          ],
          "name": "stdout"
        }
      ]
    },
    {
      "cell_type": "code",
      "metadata": {
        "id": "EO8YNOZR9Pz5",
        "colab_type": "code",
        "colab": {
          "base_uri": "https://localhost:8080/",
          "height": 35
        },
        "outputId": "96dae64e-bcd8-4e1d-da00-764b5ae98096"
      },
      "source": [
        "genes_list = []\n",
        "\n",
        "for gene in genes:\n",
        "  start = gene[0]['start']\n",
        "  end = gene[0]['end']\n",
        "\n",
        "  gene_str = text[start:end]\n",
        "\n",
        "  if (gene_str not in genes_list):\n",
        "    genes_list.append(gene_str)\n",
        "\n",
        "print(genes_list)"
      ],
      "execution_count": 58,
      "outputs": [
        {
          "output_type": "stream",
          "text": [
            "['PIK3CA', 'PIK3CA gene', 'PIK3CA mutations']\n"
          ],
          "name": "stdout"
        }
      ]
    },
    {
      "cell_type": "code",
      "metadata": {
        "id": "cWUxwCdg9yK3",
        "colab_type": "code",
        "colab": {
          "base_uri": "https://localhost:8080/",
          "height": 35
        },
        "outputId": "7ef561ed-fe61-45bd-f4b7-354c527b8fe2"
      },
      "source": [
        "drugs_list = []\n",
        "\n",
        "for drug in drugs:\n",
        "  start = drug[0]['start']\n",
        "  end = drug[0]['end']\n",
        "\n",
        "  drug_str = text[start:end]\n",
        "\n",
        "  if (drug_str not in drugs_list):\n",
        "    drugs_list.append(drug_str)\n",
        "\n",
        "print(drugs_list)"
      ],
      "execution_count": 59,
      "outputs": [
        {
          "output_type": "stream",
          "text": [
            "[]\n"
          ],
          "name": "stdout"
        }
      ]
    },
    {
      "cell_type": "code",
      "metadata": {
        "id": "yS2nlsTj9-FO",
        "colab_type": "code",
        "colab": {
          "base_uri": "https://localhost:8080/",
          "height": 35
        },
        "outputId": "935b7e68-8fcd-4523-b09a-9d26e566363a"
      },
      "source": [
        "specieses_list = []\n",
        "\n",
        "for species in specieses:\n",
        "  start = species[0]['start']\n",
        "  end = species[0]['end']\n",
        "\n",
        "  species_str = text[start:end]\n",
        "\n",
        "  if (species_str not in specieses_list):\n",
        "    specieses_list.append(species_str)\n",
        "\n",
        "print(specieses_list)"
      ],
      "execution_count": 60,
      "outputs": [
        {
          "output_type": "stream",
          "text": [
            "['patient']\n"
          ],
          "name": "stdout"
        }
      ]
    },
    {
      "cell_type": "code",
      "metadata": {
        "id": "8Qz-eGTD-PGu",
        "colab_type": "code",
        "colab": {}
      },
      "source": [
        "out = {\n",
        "    \"id\" : data[0]['sourcedb'] + data[0]['sourceid'],\n",
        "    \"text\" : text,\n",
        "    \"diseases\" : diseases_list,\n",
        "    \"genes\" : genes_list,\n",
        "    \"drugs\" : drugs_list,\n",
        "    \"species\" : specieses_list\n",
        "}"
      ],
      "execution_count": 61,
      "outputs": []
    },
    {
      "cell_type": "code",
      "metadata": {
        "id": "6_wIRukH_UXm",
        "colab_type": "code",
        "colab": {
          "base_uri": "https://localhost:8080/",
          "height": 55
        },
        "outputId": "f9c28445-0bd6-4790-8db3-7a39f809643c"
      },
      "source": [
        "print(out)"
      ],
      "execution_count": 62,
      "outputs": [
        {
          "output_type": "stream",
          "text": [
            "{'id': 'PubMed29446767', 'text': 'CLAPO syndrome: identification of somatic activating PIK3CA mutations and delineation of the natural history and phenotype. PURPOSE: CLAPO syndrome is a rare vascular disorder characterized by capillary malformation of the lower lip, lymphatic malformation predominant on the face and neck, asymmetry, and partial/generalized overgrowth. Here we tested the hypothesis that, although the genetic cause is not known, the tissue distribution of the clinical manifestations in CLAPO seems to follow a pattern of somatic mosaicism. METHODS: We clinically evaluated a cohort of 13 patients with CLAPO and screened 20 DNA blood/tissue samples from 9 patients using high-throughput, deep sequencing. RESULTS: We identified five activating mutations in the PIK3CA gene in affected tissues from 6 of the 9 patients studied; one of the variants (NM_006218.2:c.248T>C; p.Phe83Ser) has not been previously described in developmental disorders. CONCLUSION: We describe for the first time the presence of somatic activating PIK3CA mutations in patients with CLAPO. We also report an update of the phenotype and natural history of the syndrome.', 'diseases': ['CLAPO syndrome', 'vascular disorder', 'capillary malformation of the lower lip', 'lymphatic malformation predominant on the face and neck', 'CLAPO', 'developmental disorders'], 'genes': ['PIK3CA', 'PIK3CA gene', 'PIK3CA mutations'], 'drugs': [], 'species': ['patient']}\n"
          ],
          "name": "stdout"
        }
      ]
    },
    {
      "cell_type": "code",
      "metadata": {
        "id": "mcRrNbnd_VWz",
        "colab_type": "code",
        "colab": {
          "base_uri": "https://localhost:8080/",
          "height": 415
        },
        "outputId": "17014b5a-b6e3-4a35-be12-4c1672b76904"
      },
      "source": [
        "json_out = json.dumps(out, indent=2)\n",
        "print(json_out)"
      ],
      "execution_count": 63,
      "outputs": [
        {
          "output_type": "stream",
          "text": [
            "{\n",
            "  \"id\": \"PubMed29446767\",\n",
            "  \"text\": \"CLAPO syndrome: identification of somatic activating PIK3CA mutations and delineation of the natural history and phenotype. PURPOSE: CLAPO syndrome is a rare vascular disorder characterized by capillary malformation of the lower lip, lymphatic malformation predominant on the face and neck, asymmetry, and partial/generalized overgrowth. Here we tested the hypothesis that, although the genetic cause is not known, the tissue distribution of the clinical manifestations in CLAPO seems to follow a pattern of somatic mosaicism. METHODS: We clinically evaluated a cohort of 13 patients with CLAPO and screened 20 DNA blood/tissue samples from 9 patients using high-throughput, deep sequencing. RESULTS: We identified five activating mutations in the PIK3CA gene in affected tissues from 6 of the 9 patients studied; one of the variants (NM_006218.2:c.248T>C; p.Phe83Ser) has not been previously described in developmental disorders. CONCLUSION: We describe for the first time the presence of somatic activating PIK3CA mutations in patients with CLAPO. We also report an update of the phenotype and natural history of the syndrome.\",\n",
            "  \"diseases\": [\n",
            "    \"CLAPO syndrome\",\n",
            "    \"vascular disorder\",\n",
            "    \"capillary malformation of the lower lip\",\n",
            "    \"lymphatic malformation predominant on the face and neck\",\n",
            "    \"CLAPO\",\n",
            "    \"developmental disorders\"\n",
            "  ],\n",
            "  \"genes\": [\n",
            "    \"PIK3CA\",\n",
            "    \"PIK3CA gene\",\n",
            "    \"PIK3CA mutations\"\n",
            "  ],\n",
            "  \"drugs\": [],\n",
            "  \"species\": [\n",
            "    \"patient\"\n",
            "  ]\n",
            "}\n"
          ],
          "name": "stdout"
        }
      ]
    },
    {
      "cell_type": "code",
      "metadata": {
        "id": "PwaLnaGr_h8o",
        "colab_type": "code",
        "colab": {}
      },
      "source": [
        ""
      ],
      "execution_count": 63,
      "outputs": []
    }
  ]
}